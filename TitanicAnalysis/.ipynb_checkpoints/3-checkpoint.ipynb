{
 "cells": [
  {
   "cell_type": "code",
   "execution_count": null,
   "metadata": {},
   "outputs": [],
   "source": [
    "#猜想：影响是否获救的因素：船票的等级（影响票价和票号）、性别、年龄、在船上是否有兄弟姐妹、是否有父母子女、\n",
    "#是否在船舱里（可能是船票等级高或者上了年龄的人）、目的地\n",
    "#背景：1912年沉没，驶向纽约；1910年男性平均寿命51岁，大于50可以看做老人\n",
    "\n",
    "#预计的处理：age没有年龄的人是否去除出去？Ticket前面有字符的是否需要去掉字符？船票价钱Fare是否统一成浮点数？\n",
    "\n",
    "#查看：获救的总人数；各级别获救总人数；不同性别获救总人数；不同年龄段获救总人数；去往不同目的地获救的总人数；\n",
    "#   有同龄人和子女的影响；在船舱里面获救的比例\n",
    "\n",
    "#流程：提问、数据采集与清洗、探索数据、预测"
   ]
  },
  {
   "cell_type": "markdown",
   "metadata": {},
   "source": [
    "### Step1.提出问题"
   ]
  },
  {
   "cell_type": "markdown",
   "metadata": {},
   "source": [
    "哪些因素会使泰坦尼克号上的乘客生还率更高？"
   ]
  },
  {
   "cell_type": "markdown",
   "metadata": {},
   "source": [
    "### Step2.数据处理"
   ]
  },
  {
   "cell_type": "code",
   "execution_count": null,
   "metadata": {},
   "outputs": [],
   "source": [
    "import numpy as np\n",
    "import pandas as pd\n",
    "import matplotlib.pyplot as plt\n",
    "import seaborn as sns\n",
    "sns.set(color_codes = True)\n",
    "\n"
   ]
  }
 ],
 "metadata": {
  "kernelspec": {
   "display_name": "Python 3",
   "language": "python",
   "name": "python3"
  },
  "language_info": {
   "codemirror_mode": {
    "name": "ipython",
    "version": 3
   },
   "file_extension": ".py",
   "mimetype": "text/x-python",
   "name": "python",
   "nbconvert_exporter": "python",
   "pygments_lexer": "ipython3",
   "version": "3.6.4"
  }
 },
 "nbformat": 4,
 "nbformat_minor": 2
}
